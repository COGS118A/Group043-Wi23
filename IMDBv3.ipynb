{
 "cells": [
  {
   "cell_type": "markdown",
   "id": "45947c87",
   "metadata": {},
   "source": [
    "# Wrangling"
   ]
  },
  {
   "cell_type": "markdown",
   "id": "4be6371f",
   "metadata": {},
   "source": [
    "## Imports"
   ]
  },
  {
   "cell_type": "code",
   "execution_count": null,
   "id": "3aac035a",
   "metadata": {},
   "outputs": [],
   "source": [
    "import pandas as pd\n",
    "import glob\n",
    "import matplotlib.pyplot as plt\n",
    "from sklearn.model_selection import train_test_split\n",
    "from sklearn.preprocessing import StandardScaler, OneHotEncoder\n",
    "# from sklearn.impute import SimpleImputer\n",
    "from sklearn.linear_model import LinearRegression\n",
    "from sklearn.metrics import mean_squared_error, mean_absolute_error, r2_score\n",
    "from sklearn.model_selection import cross_val_score\n",
    "from sklearn.tree import DecisionTreeRegressor\n",
    "from sklearn.tree import plot_tree\n",
    "from sklearn.svm import SVR\n",
    "# from sklearn.ensemble import RandomForestRegressor\n",
    "import xgboost as xgb\n",
    "import numpy as np\n",
    "from sklearn.linear_model import LogisticRegression\n",
    "from sklearn.metrics import accuracy_score\n",
    "import os\n"
   ]
  },
  {
   "cell_type": "markdown",
   "id": "4437db34",
   "metadata": {},
   "source": [
    "## Read In data"
   ]
  },
  {
   "cell_type": "code",
   "execution_count": null,
   "id": "4bd83f44",
   "metadata": {},
   "outputs": [],
   "source": [
    "path = 'csv'\n",
    "\n",
    "files = glob.glob(path + \"/*.csv\")\n",
    "data_frames = []\n",
    "\n",
    "for file in files:\n",
    "    frame = pd.read_csv(file)\n",
    "    frame['genre'] = frame['genre'].apply(lambda x: str(file))\n",
    "    data_frames.append(frame)\n",
    "\n",
    "    \n",
    "df = pd.concat(data_frames, ignore_index=True)\n",
    "df.head()\n"
   ]
  },
  {
   "cell_type": "markdown",
   "id": "2167f717",
   "metadata": {},
   "source": [
    "## Remove rows with NAN values"
   ]
  },
  {
   "cell_type": "code",
   "execution_count": null,
   "id": "ca5cf114",
   "metadata": {},
   "outputs": [],
   "source": [
    "df = df.dropna().reset_index(drop=True)\n",
    "df.head()\n",
    "\n",
    "# unique_count = clean_df['genre'].nunique()\n",
    "# unique_count #495 combinations in dataset"
   ]
  },
  {
   "cell_type": "markdown",
   "id": "d8bb34bb",
   "metadata": {},
   "source": [
    "## Narrow down columns"
   ]
  },
  {
   "cell_type": "code",
   "execution_count": null,
   "id": "33d42f18",
   "metadata": {},
   "outputs": [],
   "source": [
    "df = df.loc[:, ['movie_name', 'year', 'certificate', 'runtime', 'genre', 'rating', 'votes', 'gross(in $)']]\n",
    "\n",
    "df.head()\n"
   ]
  },
  {
   "cell_type": "markdown",
   "id": "da3b93aa",
   "metadata": {},
   "source": [
    "## Format Columns"
   ]
  },
  {
   "cell_type": "code",
   "execution_count": null,
   "id": "c84f781f",
   "metadata": {},
   "outputs": [],
   "source": [
    "#Format runtimes into floats\n",
    "def convert_runtime(string):\n",
    "    return float(string.split(' ')[0])\n",
    "    \n",
    "df['runtime'] = df['runtime'].apply(convert_runtime)\n",
    "df = df[df['runtime'] < 300]\n",
    "\n",
    "\n",
    "#Format genre by using only first value\n",
    "def genre_parse(genre):\n",
    "    print(genre)\n",
    "    genre = genre.split('\\\\')[-1] # remove directory path\n",
    "    genre = genre[:-4]\n",
    "    \n",
    "    genre = genre.lower()\n",
    "    print(genre)\n",
    "    return genre\n",
    "  \n",
    "df['genre']=df['genre'].apply(genre_parse)\n",
    "df = df.drop(df.loc[(df['genre'] == 'musical') | (df['genre'] == 'romance') | (df['genre'] == 'biography') | (df['genre']=='animation')].index)\n",
    "\n",
    "# Format Certificate filter out all data points to only include movies with the G, PG, PG-13, R, and NC-17 ratings, switch Not Rated to NR\n",
    "def convert_unrated(certificate):\n",
    "    if certificate == 'Not Rated':\n",
    "        return 'NR'\n",
    "    else:\n",
    "        return certificate\n",
    "    \n",
    "df=df.loc[(df['certificate'] == 'R') | (df['certificate'] =='PG-13') | (df['certificate'] == 'PG') | (df['certificate'] == 'Not Rated') | (df['certificate'] =='X') | (df['certificate'] == 'NC-17')]\n",
    "df['certificate']=df['certificate'].apply(convert_unrated)\n",
    "\n",
    "#Format years into ints and include only the past 25 years worth of data. \n",
    "df['year'] = df['year'].astype(int)\n",
    "df = df.loc[(df['year'] >= 1997)].reset_index(drop=True)\n",
    "\n",
    "df.head()"
   ]
  },
  {
   "cell_type": "markdown",
   "id": "5328dac3",
   "metadata": {},
   "source": [
    "# Data Engineering"
   ]
  },
  {
   "cell_type": "markdown",
   "id": "290bd406",
   "metadata": {},
   "source": [
    "## Remove Repeats and One Hot Encode"
   ]
  },
  {
   "cell_type": "code",
   "execution_count": null,
   "id": "2a755e83",
   "metadata": {},
   "outputs": [],
   "source": [
    "df_pre_eng = df\n",
    "genres = df['genre'].unique()\n",
    "for genre in genres:\n",
    "    df[genre] = 0\n",
    "names = df['movie_name'].unique()\n",
    "\n",
    "for name in names:\n",
    "    repeats = df.loc[(df['movie_name'] == name)]\n",
    "    genres = []\n",
    "    \n",
    "    for index in list(repeats.index):\n",
    "        genres.append(repeats.loc[index,'genre'])\n",
    "    \n",
    "    for genre in genres:\n",
    "        df.loc[list(repeats.index)[0], genre] = 1\n",
    "    \n",
    "    df = df.drop(list(repeats.index)[1:])\n",
    "    \n",
    "df=df.drop(['movie_name', 'genre'], axis=1)\n",
    "df.head()"
   ]
  },
  {
   "cell_type": "code",
   "execution_count": null,
   "id": "dc46046f",
   "metadata": {},
   "outputs": [],
   "source": [
    "# scale down gross earnings from dollars to millions of dollars\n",
    "df['gross(in $)'] = df['gross(in $)']/1e6"
   ]
  },
  {
   "cell_type": "markdown",
   "id": "ad20cf7e",
   "metadata": {},
   "source": [
    "# EDA"
   ]
  },
  {
   "cell_type": "code",
   "execution_count": null,
   "id": "c09209b2",
   "metadata": {},
   "outputs": [],
   "source": [
    "from matplotlib.gridspec import GridSpec\n",
    "plt.figure(figsize=(40,40))\n",
    "plt.rc('font', size=50)          # controls default text sizes    # fontsize of the x and y labels\n",
    "plt.rc('xtick', labelsize=50)    # fontsize of the tick labels\n",
    "plt.rc('ytick', labelsize=50) \n",
    "fig, (ax1, ax2, ax3) = plt.subplots(3, 3, gridspec_kw={'wspace':1/8, 'hspace':1/8})\n",
    "\n",
    "df['year'].hist(bins=range(1997, 2022, 4), ax=ax1[0])\n",
    "ax1[0].set_xlabel('Year')\n",
    "ax1[0].set_ylabel('Count')\n",
    "ax1[0].set_title('Distribution of Year')\n",
    "\n",
    "df['certificate'].hist(ax=ax1[1])\n",
    "ax1[1].set_title('Distribution of Certificate')\n",
    "ax1[1].set_xlabel('Certificate')\n",
    "ax1[1].set_ylabel('Count')\n",
    "\n",
    "df['runtime'].hist(bins=range(0, 300, 30), ax=ax1[2])\n",
    "ax1[2].set_xlabel('Minutes')\n",
    "ax1[2].set_ylabel('Count')\n",
    "ax1[2].set_title('Distribution of Runtime')\n",
    "\n",
    "df_pre_eng['genre'].hist(ax=ax2[0],figsize=(80,50))\n",
    "ax2[0].set_title('Distribution of Genre')\n",
    "ax2[0].set_xlabel('Genre')\n",
    "ax2[0].set_ylabel('Count')\n",
    "\n",
    "df['rating'].hist(ax=ax2[1])\n",
    "ax2[1].set_title('Distribution of Rating')\n",
    "ax2[1].set_xlabel('Rating')\n",
    "ax2[1].set_ylabel('Count')\n",
    "\n",
    "df['votes'].hist(ax=ax2[2])\n",
    "ax2[2].set_title('Distribution of Number of Votes')\n",
    "ax2[2].set_xlabel('Number of Votes')\n",
    "ax2[2].set_ylabel('Count')\n",
    "\n",
    "df['gross(in $)'].hist(ax=ax3[0])\n",
    "ax3[0].set_title('Distribution of Gross Income (Millions of $)')\n",
    "ax3[0].set_xlabel('Gross Income (Millions of $)')\n",
    "ax3[0].set_ylabel('Count')\n",
    "\n",
    "plt.show()\n",
    "\n",
    "print('Earliest Year:', df['year'].min())\n",
    "print('Latest Year:', df['year'].max())\n",
    "\n",
    "print(df_pre_eng['genre'].unique())\n",
    "\n",
    "print('Shortest Movie Runtime:', df['runtime'].min(), 'min')\n",
    "print('Longest Movie Runtime:', df['runtime'].max(), 'min')\n",
    "print('Average Movie Runtime:', df['runtime'].mean(), 'min')\n"
   ]
  },
  {
   "cell_type": "code",
   "execution_count": null,
   "id": "b10ee2bc",
   "metadata": {},
   "outputs": [],
   "source": [
    "import seaborn as sns\n",
    "plt.figure(figsize=(60,40))\n",
    "plt.rc('font', size=40)          # controls default text sizes    # fontsize of the x and y labels\n",
    "plt.rc('xtick', labelsize=40)    # fontsize of the tick labels\n",
    "plt.rc('ytick', labelsize=40) \n",
    "fig, (ax1, ax2, ax3) = plt.subplots(3, 2, gridspec_kw={'wspace':1/16, 'hspace':1/16}, figsize=(80, 80))\n",
    "\n",
    "sns.boxplot(df['year'],ax=ax1[0])\n",
    "ax1[0].set_title('Years of Release')\n",
    "ax1[0].set_ylabel('Year')\n",
    "\n",
    "sns.boxplot(df['runtime'],ax=ax1[1])\n",
    "ax1[1].set_title('Movie Runtimes')\n",
    "ax1[1].set_ylabel('Runtime')\n",
    "\n",
    "sns.boxplot(df['rating'],ax=ax2[0])\n",
    "ax2[0].set_title('Movie Rating Out of 10')\n",
    "ax2[0].set_ylabel('Rating')\n",
    "\n",
    "sns.boxplot(df['votes'],ax=ax2[1])\n",
    "ax2[1].set_title('Number of Votes for Movie')\n",
    "ax2[1].set_ylabel('Number of Votes')\n",
    "\n",
    "sns.boxplot(df['gross(in $)'],ax=ax3[0])\n",
    "ax3[0].set_title('Gross Income (Millions of $)')\n",
    "ax3[0].set_ylabel('Gross Income (Millions of $)')"
   ]
  },
  {
   "cell_type": "code",
   "execution_count": null,
   "id": "3ea2dbb7",
   "metadata": {},
   "outputs": [],
   "source": [
    "def outliers(ls):\n",
    "    q3= ls.quantile(0.75)\n",
    "    q1= ls.quantile(0.25)\n",
    "    IQR=q3-q1\n",
    "    outliers_upper = ls.loc[ls > q3 + 1.5 * IQR]\n",
    "    outliers_lower = df['runtime'].loc[df['runtime'] < q1 - 1.5 * IQR]\n",
    "    num_outliers_runtime = len(outliers_lower)+len(outliers_upper)\n",
    "    return num_outliers_runtime\n",
    "    \n"
   ]
  },
  {
   "cell_type": "code",
   "execution_count": null,
   "id": "a9e192e3",
   "metadata": {},
   "outputs": [],
   "source": [
    "\n",
    "print(\"Number of outliers detected in year data: \" + str(outliers(df['year'])))\n",
    "print(\"Number of outliers detected in runtime data: \" + str(outliers(df['runtime'])))\n",
    "print(\"Number of outliers detected in rating data: \" + str(outliers(df['rating'])))\n",
    "print(\"Number of outliers detected in votes data: \" + str(outliers(df['votes'])))\n",
    "print(\"Number of outliers detected in gross income data: \" + str(outliers(df['gross(in $)'])))\n"
   ]
  },
  {
   "cell_type": "code",
   "execution_count": null,
   "id": "ffd2d11e",
   "metadata": {},
   "outputs": [],
   "source": [
    "import seaborn as sns\n",
    "# Correlation Matrix, dropping Film-Noir since none are in our dataframe anymore from the last 25 years\n",
    "sns.set(rc={'figure.figsize':(12, 8)})\n",
    "sns.heatmap(df.corr(), annot=True)"
   ]
  },
  {
   "cell_type": "markdown",
   "id": "7c595543",
   "metadata": {},
   "source": [
    "\n",
    "<font size=\"8\">Using 'Year' as Numerical</font>\n"
   ]
  },
  {
   "cell_type": "code",
   "execution_count": null,
   "id": "f7237755",
   "metadata": {},
   "outputs": [],
   "source": [
    "features = list(df.columns)\n",
    "X_train, X_test, y_train, y_test = train_test_split(df[[f for f in features if f not in ['gross(in $)']]]\n",
    "                                                    , df['gross(in $)'], test_size=0.2, random_state=42)"
   ]
  },
  {
   "cell_type": "code",
   "execution_count": null,
   "id": "5b12e00c",
   "metadata": {},
   "outputs": [],
   "source": [
    "fig, ax = plt.subplots(nrows=1, ncols=2, figsize=(10,5))\n",
    "ax[0].hist(X_train['rating'], bins=20)\n",
    "ax[0].set_title('Training Set')\n",
    "ax[0].set_xlabel('Rating')\n",
    "ax[0].set_ylabel('Frequency')\n",
    "ax[1].hist(X_test['rating'], bins=20)\n",
    "ax[1].set_title('Test Set')\n",
    "ax[1].set_xlabel('Rating')\n",
    "ax[1].set_ylabel('Frequency')\n",
    "plt.show()"
   ]
  },
  {
   "cell_type": "code",
   "execution_count": null,
   "id": "2efb46b5",
   "metadata": {},
   "outputs": [],
   "source": [
    "num_scaler = StandardScaler()\n",
    "ohe_encoder = OneHotEncoder()"
   ]
  },
  {
   "cell_type": "code",
   "execution_count": null,
   "id": "29a618f0",
   "metadata": {},
   "outputs": [],
   "source": [
    "X_train_num = X_train[[f for f in features if f not in ['gross(in $)', 'certificate']]]\n",
    "X_train_cat = X_train[['certificate']]\n",
    "\n",
    "X_train_num_scaled = num_scaler.fit_transform(X_train_num)\n",
    "X_train_cat_encoded = ohe_encoder.fit_transform(X_train_cat)"
   ]
  },
  {
   "cell_type": "code",
   "execution_count": null,
   "id": "9b810aba",
   "metadata": {},
   "outputs": [],
   "source": [
    "X_train_preprocessed = pd.concat([\n",
    "    pd.DataFrame(X_train_num_scaled, columns=[f for f in features if f not in ['gross(in $)', 'certificate']]),\n",
    "    pd.DataFrame(X_train_cat_encoded.toarray(), columns=ohe_encoder.get_feature_names_out(['certificate']))\n",
    "], axis=1)"
   ]
  },
  {
   "cell_type": "code",
   "execution_count": null,
   "id": "e2d3d718",
   "metadata": {},
   "outputs": [],
   "source": [
    "X_test_num = X_test[[f for f in features if f not in ['gross(in $)', 'certificate']]]\n",
    "X_test_cat = X_test[['certificate']]\n",
    "\n",
    "X_test_num_scaled = num_scaler.transform(X_test_num)\n",
    "X_test_cat_encoded = ohe_encoder.transform(X_test_cat)"
   ]
  },
  {
   "cell_type": "code",
   "execution_count": null,
   "id": "0e324662",
   "metadata": {},
   "outputs": [],
   "source": [
    "X_test_preprocessed = pd.concat([\n",
    "    pd.DataFrame(X_test_num_scaled, columns=[f for f in features if f not in ['gross(in $)', 'certificate']]),\n",
    "    pd.DataFrame(X_test_cat_encoded.toarray(), columns=ohe_encoder.get_feature_names_out(['certificate']))\n",
    "], axis=1)"
   ]
  },
  {
   "cell_type": "markdown",
   "id": "031c3e16",
   "metadata": {},
   "source": [
    "<font size=\"5\">Linear Regression</font>"
   ]
  },
  {
   "cell_type": "code",
   "execution_count": null,
   "id": "180c1ae0",
   "metadata": {},
   "outputs": [],
   "source": [
    "model = LinearRegression()\n",
    "model.fit(X_train_preprocessed, y_train)\n",
    "y_pred = model.predict(pd.concat([pd.DataFrame(X_test_num_scaled, columns=[f for f in features if f not in ['gross(in $)', 'certificate']]), \n",
    "                                  pd.DataFrame(X_test_cat_encoded.toarray(), columns=ohe_encoder.get_feature_names_out(['certificate']))], axis=1))\n",
    "\n",
    "print('R2 score:', r2_score(y_test, y_pred))\n",
    "print('Mean squared error:', mean_squared_error(y_test, y_pred))\n",
    "print('Mean absolute error:', mean_absolute_error(y_test, y_pred))"
   ]
  },
  {
   "cell_type": "code",
   "execution_count": null,
   "id": "79b4a5b1",
   "metadata": {},
   "outputs": [],
   "source": [
    "plt.scatter(y_test, y_pred)\n",
    "plt.xlabel(\"Actual Gross Box Office Earnings\")\n",
    "plt.ylabel(\"Predicted Gross Box Office Earnings\")\n",
    "plt.show()"
   ]
  },
  {
   "cell_type": "markdown",
   "id": "8dbc6d95",
   "metadata": {},
   "source": [
    "<font size=\"5\">Decision Tree</font>"
   ]
  },
  {
   "cell_type": "code",
   "execution_count": null,
   "id": "877301f4",
   "metadata": {},
   "outputs": [],
   "source": [
    "model = DecisionTreeRegressor()\n",
    "model.fit(X_train_preprocessed, y_train)\n",
    "y_pred = model.predict(X_test_preprocessed)\n",
    "\n",
    "print('R2 score:', r2_score(y_test, y_pred))\n",
    "print('Mean squared error:', mean_squared_error(y_test, y_pred))\n",
    "print('Mean absolute error:', mean_absolute_error(y_test, y_pred))"
   ]
  },
  {
   "cell_type": "markdown",
   "id": "69530a4d",
   "metadata": {},
   "source": [
    "<font size=\"8\">Using Year as Categorical (5-year increment)</font>"
   ]
  },
  {
   "cell_type": "code",
   "execution_count": null,
   "id": "d3edd703",
   "metadata": {},
   "outputs": [],
   "source": [
    "df['year_category'] = (((df['year'] - 1910) // 5) * 5 + 1910) // 10 * 10\n",
    "df['year_category'] = df['year_category'].apply(lambda x: str(x) + '-' + str(x+4) if (x+3) < 2023 else str(x) + '-2022')\n",
    "df"
   ]
  },
  {
   "cell_type": "code",
   "execution_count": null,
   "id": "eef1dc99",
   "metadata": {},
   "outputs": [],
   "source": [
    "year_counts = df['year_category'].value_counts().sort_index()\n",
    "year_counts.plot.bar()\n",
    "plt.title('Distribution of Year Category')\n",
    "plt.xlabel('Year Category')\n",
    "plt.ylabel('Count')\n",
    "plt.show()"
   ]
  },
  {
   "cell_type": "code",
   "execution_count": null,
   "id": "ace603e8",
   "metadata": {},
   "outputs": [],
   "source": [
    "features.append('year_category')\n",
    "X_train, X_test, y_train, y_test = train_test_split(df[[f for f in features if f not in ['year', 'gross(in $)']]]\n",
    "                                                    , df['gross(in $)'], test_size=0.2, random_state=42)"
   ]
  },
  {
   "cell_type": "code",
   "execution_count": null,
   "id": "36358c8b",
   "metadata": {},
   "outputs": [],
   "source": [
    "fig, ax = plt.subplots(nrows=1, ncols=2, figsize=(10,5))\n",
    "ax[0].hist(X_train['rating'], bins=20)\n",
    "ax[0].set_title('Training Set')\n",
    "ax[0].set_xlabel('Rating')\n",
    "ax[0].set_ylabel('Frequency')\n",
    "ax[1].hist(X_test['rating'], bins=20)\n",
    "ax[1].set_title('Test Set')\n",
    "ax[1].set_xlabel('Rating')\n",
    "ax[1].set_ylabel('Frequency')\n",
    "plt.show()"
   ]
  },
  {
   "cell_type": "code",
   "execution_count": null,
   "id": "a59f6b3e",
   "metadata": {},
   "outputs": [],
   "source": [
    "# Distribution of Genres\n",
    "# Extract the genre columns from the train and test sets\n",
    "genre_cols = ['action', 'adventure', 'crime', 'family', 'fantasy', 'history', 'horror', 'mystery', 'scifi', 'sports', 'thriller', 'war']\n",
    "X_train_genre = X_train[genre_cols]\n",
    "X_test_genre = X_test[genre_cols]\n",
    "\n",
    "# Define colors for each genre\n",
    "colors = ['#1f77b4', '#ff7f0e', '#2ca02c', '#d62728', '#9467bd', '#8c564b',\n",
    "          '#e377c2', '#7f7f7f', '#bcbd22', '#17becf', '#00bfff', '#8b008b', '#ff1493']\n",
    "\n",
    "# Calculate percentage representation of each genre in the training set\n",
    "train_genre_counts = X_train_genre.sum(axis=0)\n",
    "train_genre_percents = train_genre_counts / len(X_train_genre) * 100\n",
    "\n",
    "# Plot barplot for training set\n",
    "fig, ax = plt.subplots(figsize=(10, 6))\n",
    "plt.bar(train_genre_percents.index, train_genre_percents, color=colors)\n",
    "plt.title('Percentage Representation of Genres in Training Set')\n",
    "plt.xlabel('Genre')\n",
    "plt.ylabel('Percentage')\n",
    "plt.show()\n",
    "\n",
    "# Calculate percentage representation of each genre in the test set\n",
    "test_genre_counts = X_test_genre.sum(axis=0)\n",
    "test_genre_percents = test_genre_counts / len(X_test_genre) * 100\n",
    "\n",
    "# Plot barplot for test set\n",
    "fig, ax = plt.subplots(figsize=(10, 6))\n",
    "plt.bar(test_genre_percents.index, test_genre_percents, color=colors)\n",
    "plt.title('Percentage Representation of Genres in Test Set')\n",
    "plt.xlabel('Genre')\n",
    "plt.ylabel('Percentage')\n",
    "plt.show()\n"
   ]
  },
  {
   "cell_type": "code",
   "execution_count": null,
   "id": "18331619",
   "metadata": {},
   "outputs": [],
   "source": [
    "X_train_num = X_train[[f for f in features if f not in ['year', 'certificate', 'gross(in $)', 'year_category']]]\n",
    "X_train_cat = X_train[['certificate', 'year_category']]\n",
    "\n",
    "X_train_num_scaled = num_scaler.fit_transform(X_train_num)\n",
    "X_train_cat_encoded = ohe_encoder.fit_transform(X_train_cat)\n"
   ]
  },
  {
   "cell_type": "code",
   "execution_count": null,
   "id": "5934ca21",
   "metadata": {},
   "outputs": [],
   "source": [
    "X_train_preprocessed = pd.concat([\n",
    "    pd.DataFrame(X_train_num_scaled, columns=[f for f in features if f not in ['year', 'certificate', 'gross(in $)', 'year_category']]),\n",
    "    pd.DataFrame(X_train_cat_encoded.toarray(), columns=ohe_encoder.get_feature_names_out(['certificate','year_category']))\n",
    "], axis=1)"
   ]
  },
  {
   "cell_type": "code",
   "execution_count": null,
   "id": "03bbcf07",
   "metadata": {},
   "outputs": [],
   "source": [
    "X_test_num = X_test[[f for f in features if f not in ['year', 'certificate', 'gross(in $)', 'year_category']]]\n",
    "X_test_cat = X_test[['certificate', 'year_category',]]\n",
    "\n",
    "X_test_num_scaled = num_scaler.transform(X_test_num)\n",
    "X_test_cat_encoded = ohe_encoder.transform(X_test_cat)"
   ]
  },
  {
   "cell_type": "code",
   "execution_count": null,
   "id": "e5320276",
   "metadata": {},
   "outputs": [],
   "source": [
    "X_test_preprocessed = pd.concat([\n",
    "    pd.DataFrame(X_test_num_scaled, columns=[f for f in features if f not in ['year', 'certificate', 'gross(in $)', 'year_category']]),\n",
    "    pd.DataFrame(X_test_cat_encoded.toarray(), columns=ohe_encoder.get_feature_names_out(['certificate', 'year_category']))\n",
    "], axis=1)"
   ]
  },
  {
   "cell_type": "markdown",
   "id": "cc7c8a2a",
   "metadata": {},
   "source": [
    "<font size=\"5\">Linear Regression</font>"
   ]
  },
  {
   "cell_type": "code",
   "execution_count": null,
   "id": "148168ae",
   "metadata": {},
   "outputs": [],
   "source": [
    "model = LinearRegression()\n",
    "model.fit(X_train_preprocessed, y_train)\n",
    "y_pred = model.predict(pd.concat([pd.DataFrame(X_test_num_scaled, columns=[f for f in features if f not in ['year', 'certificate', 'gross(in $)', 'year_category']]), \n",
    "                                  pd.DataFrame(X_test_cat_encoded.toarray(), columns=ohe_encoder.get_feature_names_out(['certificate', 'year_category']))], axis=1))\n",
    "\n",
    "print('R2 score:', r2_score(y_test, y_pred))\n",
    "print('Mean squared error:', mean_squared_error(y_test, y_pred))\n",
    "print('Mean absolute error:', mean_absolute_error(y_test, y_pred))"
   ]
  },
  {
   "cell_type": "code",
   "execution_count": null,
   "id": "d56ddc01",
   "metadata": {},
   "outputs": [],
   "source": [
    "plt.scatter(y_test, y_pred)\n",
    "plt.xlabel(\"Actual Gross Box Office Earnings\")\n",
    "plt.ylabel(\"Predicted Gross Box Office Earnings\")\n",
    "plt.show()"
   ]
  },
  {
   "cell_type": "markdown",
   "id": "405b3ef4",
   "metadata": {},
   "source": [
    "<font size=\"5\">Decision Tree</font>"
   ]
  },
  {
   "cell_type": "code",
   "execution_count": null,
   "id": "db3ac0ce",
   "metadata": {},
   "outputs": [],
   "source": [
    "model = DecisionTreeRegressor(max_depth=5)\n",
    "model.fit(X_train_preprocessed, y_train)\n",
    "y_pred= model.predict(pd.concat([pd.DataFrame(X_test_num_scaled, columns=[f for f in features if f not in ['year', 'certificate', 'gross(in $)', 'year_category']]),\n",
    "                                  pd.DataFrame(X_test_cat_encoded.toarray(), columns=ohe_encoder.get_feature_names_out(['certificate', 'year_category']))], axis=1))\n",
    "\n",
    "feature_names = X_train_preprocessed.columns\n",
    "plt.figure(figsize=(50, 10))\n",
    "plot_tree(model, filled=True, feature_names=feature_names)\n",
    "plt.show()\n",
    "\n",
    "print('R2 score:', r2_score(y_test, y_pred))\n",
    "print('Mean squared error:', mean_squared_error(y_test, y_pred))\n",
    "print('Mean absolute error:', mean_absolute_error(y_test, y_pred))"
   ]
  },
  {
   "cell_type": "markdown",
   "id": "f42b1253",
   "metadata": {},
   "source": [
    "<font size=\"5\">SVR</font>"
   ]
  },
  {
   "cell_type": "code",
   "execution_count": null,
   "id": "ca01451e",
   "metadata": {},
   "outputs": [],
   "source": [
    "model = SVR(kernel='rbf', C=100, gamma='auto')\n",
    "model.fit(X_train_preprocessed, y_train)\n",
    "y_pred = model.predict(pd.concat([pd.DataFrame(X_test_num_scaled, columns=[f for f in features if f not in ['year', 'certificate', 'gross(in $)', 'year_category']]), \n",
    "                                  pd.DataFrame(X_test_cat_encoded.toarray(), columns=ohe_encoder.get_feature_names_out(['certificate', 'year_category']))], axis=1))\n",
    "\n",
    "print('R2 score:', r2_score(y_test, y_pred))\n",
    "print('Mean squared error:', mean_squared_error(y_test, y_pred))\n",
    "print('Mean absolute error:', mean_absolute_error(y_test, y_pred))"
   ]
  },
  {
   "cell_type": "markdown",
   "id": "af509e39",
   "metadata": {},
   "source": [
    "<font size=\"5\">Random Forest</font>"
   ]
  },
  {
   "cell_type": "code",
   "execution_count": null,
   "id": "30fbdfaf",
   "metadata": {},
   "outputs": [],
   "source": [
    "from sklearn.ensemble import RandomForestRegressor\n",
    "rf = RandomForestRegressor(n_estimators=100, max_depth=10, random_state=42)\n",
    "rf.fit(X_train_preprocessed, y_train)\n",
    "\n",
    "y_pred = rf.predict(pd.concat([pd.DataFrame(X_test_num_scaled, columns=[f for f in features if f not in ['year', 'certificate', 'gross(in $)', 'year_category']]), \n",
    "                                  pd.DataFrame(X_test_cat_encoded.toarray(), columns=ohe_encoder.get_feature_names_out(['certificate', 'year_category']))], axis=1))\n",
    "mse = mean_squared_error(y_test, y_pred)\n",
    "print('Mean squared error:', mse)"
   ]
  },
  {
   "cell_type": "markdown",
   "id": "dd010070",
   "metadata": {},
   "source": [
    "<font size=\"5\">XGBoost</font>"
   ]
  },
  {
   "cell_type": "code",
   "execution_count": null,
   "id": "712ef1b2",
   "metadata": {},
   "outputs": [],
   "source": [
    "model = xgb.XGBRegressor()\n",
    "model.fit(X_train_preprocessed, y_train)\n",
    "\n",
    "y_pred = model.predict(X_test_preprocessed)\n",
    "\n",
    "rmse = np.sqrt(mean_squared_error(y_test, y_pred))\n",
    "print(\"Root Mean Squared Error: \", rmse)\n",
    "\n",
    "# accuracy = accuracy_score(y_test, y_pred)\n",
    "# print(\"Accuracy:\", accuracy)"
   ]
  },
  {
   "cell_type": "code",
   "execution_count": null,
   "id": "58f130fd",
   "metadata": {},
   "outputs": [],
   "source": [
    "xgb.plot_importance(model)\n",
    "plt.show()"
   ]
  },
  {
   "attachments": {},
   "cell_type": "markdown",
   "id": "cf70c4f2",
   "metadata": {},
   "source": [
    "<font size=\"5\">Hyperparameter Optimization: Grid Search on Gradient Boosting</font>"
   ]
  },
  {
   "cell_type": "code",
   "execution_count": null,
   "id": "288c32a5",
   "metadata": {},
   "outputs": [],
   "source": [
    "from sklearn.ensemble import GradientBoostingRegressor\n",
    "from sklearn.model_selection import RepeatedKFold, GridSearchCV\n",
    "\n",
    "gbr = GradientBoostingRegressor()\n",
    "grid = dict()\n",
    "grid['n_estimators'] = [10, 50, 100, 1000]\n",
    "grid['learning_rate'] = [0.0001, 0.001, 0.005, 0.01, 0.05, 0.1]\n",
    "grid['subsample'] = [0.5, 0.7, 1.0]\n",
    "grid['max_depth'] = [3, 5, 7]\n",
    "\n",
    "rskf = RepeatedKFold(n_repeats=3, n_splits=10, random_state=420210)\n",
    "grid_search = GridSearchCV(estimator=gbr, param_grid=grid, cv=rskf)\n",
    "# search over our floating values\n",
    "grid_result = grid_search.fit(X=df[[f for f in features if f not in ['year', 'certificate', 'gross(in $)', 'year_category']]], y=df['gross(in $)'])"
   ]
  },
  {
   "cell_type": "code",
   "execution_count": 50,
   "id": "6c25ebd4",
   "metadata": {},
   "outputs": [
    {
     "name": "stdout",
     "output_type": "stream",
     "text": [
      "OPTIMAL: 0.699134 with params: {'learning_rate': 0.005, 'max_depth': 5, 'n_estimators': 1000, 'subsample': 0.5}\n",
      "-0.000907 (0.002224) with params: {'learning_rate': 0.0001, 'max_depth': 3, 'n_estimators': 10, 'subsample': 0.5}\n",
      "-0.000917 (0.002215) with params: {'learning_rate': 0.0001, 'max_depth': 3, 'n_estimators': 10, 'subsample': 0.7}\n",
      "-0.000917 (0.002211) with params: {'learning_rate': 0.0001, 'max_depth': 3, 'n_estimators': 10, 'subsample': 1.0}\n",
      "0.003981 (0.002083) with params: {'learning_rate': 0.0001, 'max_depth': 3, 'n_estimators': 50, 'subsample': 0.5}\n",
      "0.003951 (0.002097) with params: {'learning_rate': 0.0001, 'max_depth': 3, 'n_estimators': 50, 'subsample': 0.7}\n",
      "0.003938 (0.002064) with params: {'learning_rate': 0.0001, 'max_depth': 3, 'n_estimators': 50, 'subsample': 1.0}\n",
      "0.010064 (0.002085) with params: {'learning_rate': 0.0001, 'max_depth': 3, 'n_estimators': 100, 'subsample': 0.5}\n",
      "0.010019 (0.002100) with params: {'learning_rate': 0.0001, 'max_depth': 3, 'n_estimators': 100, 'subsample': 0.7}\n",
      "0.009957 (0.002073) with params: {'learning_rate': 0.0001, 'max_depth': 3, 'n_estimators': 100, 'subsample': 1.0}\n",
      "0.109625 (0.009889) with params: {'learning_rate': 0.0001, 'max_depth': 3, 'n_estimators': 1000, 'subsample': 0.5}\n",
      "0.109253 (0.009946) with params: {'learning_rate': 0.0001, 'max_depth': 3, 'n_estimators': 1000, 'subsample': 0.7}\n",
      "0.108268 (0.010514) with params: {'learning_rate': 0.0001, 'max_depth': 3, 'n_estimators': 1000, 'subsample': 1.0}\n",
      "-0.000746 (0.002205) with params: {'learning_rate': 0.0001, 'max_depth': 5, 'n_estimators': 10, 'subsample': 0.5}\n",
      "-0.000761 (0.002221) with params: {'learning_rate': 0.0001, 'max_depth': 5, 'n_estimators': 10, 'subsample': 0.7}\n",
      "-0.000760 (0.002218) with params: {'learning_rate': 0.0001, 'max_depth': 5, 'n_estimators': 10, 'subsample': 1.0}\n",
      "0.004709 (0.002084) with params: {'learning_rate': 0.0001, 'max_depth': 5, 'n_estimators': 50, 'subsample': 0.5}\n",
      "0.004705 (0.002072) with params: {'learning_rate': 0.0001, 'max_depth': 5, 'n_estimators': 50, 'subsample': 0.7}\n",
      "0.004720 (0.002142) with params: {'learning_rate': 0.0001, 'max_depth': 5, 'n_estimators': 50, 'subsample': 1.0}\n",
      "0.011497 (0.002169) with params: {'learning_rate': 0.0001, 'max_depth': 5, 'n_estimators': 100, 'subsample': 0.5}\n",
      "0.011519 (0.002170) with params: {'learning_rate': 0.0001, 'max_depth': 5, 'n_estimators': 100, 'subsample': 0.7}\n",
      "0.011509 (0.002339) with params: {'learning_rate': 0.0001, 'max_depth': 5, 'n_estimators': 100, 'subsample': 1.0}\n",
      "0.122832 (0.011580) with params: {'learning_rate': 0.0001, 'max_depth': 5, 'n_estimators': 1000, 'subsample': 0.5}\n",
      "0.122848 (0.011737) with params: {'learning_rate': 0.0001, 'max_depth': 5, 'n_estimators': 1000, 'subsample': 0.7}\n",
      "0.122454 (0.014035) with params: {'learning_rate': 0.0001, 'max_depth': 5, 'n_estimators': 1000, 'subsample': 1.0}\n",
      "-0.000695 (0.002222) with params: {'learning_rate': 0.0001, 'max_depth': 7, 'n_estimators': 10, 'subsample': 0.5}\n",
      "-0.000697 (0.002231) with params: {'learning_rate': 0.0001, 'max_depth': 7, 'n_estimators': 10, 'subsample': 0.7}\n",
      "-0.000724 (0.002225) with params: {'learning_rate': 0.0001, 'max_depth': 7, 'n_estimators': 10, 'subsample': 1.0}\n",
      "0.005017 (0.002140) with params: {'learning_rate': 0.0001, 'max_depth': 7, 'n_estimators': 50, 'subsample': 0.5}\n",
      "0.005012 (0.002143) with params: {'learning_rate': 0.0001, 'max_depth': 7, 'n_estimators': 50, 'subsample': 0.7}\n",
      "0.004903 (0.002214) with params: {'learning_rate': 0.0001, 'max_depth': 7, 'n_estimators': 50, 'subsample': 1.0}\n",
      "0.012124 (0.002232) with params: {'learning_rate': 0.0001, 'max_depth': 7, 'n_estimators': 100, 'subsample': 0.5}\n",
      "0.012119 (0.002244) with params: {'learning_rate': 0.0001, 'max_depth': 7, 'n_estimators': 100, 'subsample': 0.7}\n",
      "0.011863 (0.002537) with params: {'learning_rate': 0.0001, 'max_depth': 7, 'n_estimators': 100, 'subsample': 1.0}\n",
      "0.128249 (0.012517) with params: {'learning_rate': 0.0001, 'max_depth': 7, 'n_estimators': 1000, 'subsample': 0.5}\n",
      "0.128046 (0.012411) with params: {'learning_rate': 0.0001, 'max_depth': 7, 'n_estimators': 1000, 'subsample': 0.7}\n",
      "0.125520 (0.015240) with params: {'learning_rate': 0.0001, 'max_depth': 7, 'n_estimators': 1000, 'subsample': 1.0}\n",
      "0.010031 (0.002135) with params: {'learning_rate': 0.001, 'max_depth': 3, 'n_estimators': 10, 'subsample': 0.5}\n",
      "0.010006 (0.002136) with params: {'learning_rate': 0.001, 'max_depth': 3, 'n_estimators': 10, 'subsample': 0.7}\n",
      "0.009963 (0.002073) with params: {'learning_rate': 0.001, 'max_depth': 3, 'n_estimators': 10, 'subsample': 1.0}\n",
      "0.056378 (0.005247) with params: {'learning_rate': 0.001, 'max_depth': 3, 'n_estimators': 50, 'subsample': 0.5}\n",
      "0.056285 (0.005213) with params: {'learning_rate': 0.001, 'max_depth': 3, 'n_estimators': 50, 'subsample': 0.7}\n",
      "0.055886 (0.005614) with params: {'learning_rate': 0.001, 'max_depth': 3, 'n_estimators': 50, 'subsample': 1.0}\n",
      "0.109533 (0.009688) with params: {'learning_rate': 0.001, 'max_depth': 3, 'n_estimators': 100, 'subsample': 0.5}\n",
      "0.109157 (0.009966) with params: {'learning_rate': 0.001, 'max_depth': 3, 'n_estimators': 100, 'subsample': 0.7}\n",
      "0.108306 (0.010518) with params: {'learning_rate': 0.001, 'max_depth': 3, 'n_estimators': 100, 'subsample': 1.0}\n",
      "0.555372 (0.036423) with params: {'learning_rate': 0.001, 'max_depth': 3, 'n_estimators': 1000, 'subsample': 0.5}\n",
      "0.552963 (0.036552) with params: {'learning_rate': 0.001, 'max_depth': 3, 'n_estimators': 1000, 'subsample': 0.7}\n",
      "0.549333 (0.037269) with params: {'learning_rate': 0.001, 'max_depth': 3, 'n_estimators': 1000, 'subsample': 1.0}\n",
      "0.011480 (0.002219) with params: {'learning_rate': 0.001, 'max_depth': 5, 'n_estimators': 10, 'subsample': 0.5}\n",
      "0.011475 (0.002211) with params: {'learning_rate': 0.001, 'max_depth': 5, 'n_estimators': 10, 'subsample': 0.7}\n",
      "0.011513 (0.002347) with params: {'learning_rate': 0.001, 'max_depth': 5, 'n_estimators': 10, 'subsample': 1.0}\n",
      "0.063539 (0.006244) with params: {'learning_rate': 0.001, 'max_depth': 5, 'n_estimators': 50, 'subsample': 0.5}\n",
      "0.063386 (0.006086) with params: {'learning_rate': 0.001, 'max_depth': 5, 'n_estimators': 50, 'subsample': 0.7}\n",
      "0.063321 (0.007667) with params: {'learning_rate': 0.001, 'max_depth': 5, 'n_estimators': 50, 'subsample': 1.0}\n",
      "0.122767 (0.011309) with params: {'learning_rate': 0.001, 'max_depth': 5, 'n_estimators': 100, 'subsample': 0.5}\n",
      "0.122740 (0.011738) with params: {'learning_rate': 0.001, 'max_depth': 5, 'n_estimators': 100, 'subsample': 0.7}\n",
      "0.122482 (0.014061) with params: {'learning_rate': 0.001, 'max_depth': 5, 'n_estimators': 100, 'subsample': 1.0}\n",
      "0.601144 (0.041497) with params: {'learning_rate': 0.001, 'max_depth': 5, 'n_estimators': 1000, 'subsample': 0.5}\n",
      "0.596376 (0.040485) with params: {'learning_rate': 0.001, 'max_depth': 5, 'n_estimators': 1000, 'subsample': 0.7}\n",
      "0.589476 (0.041550) with params: {'learning_rate': 0.001, 'max_depth': 5, 'n_estimators': 1000, 'subsample': 1.0}\n",
      "0.012048 (0.002178) with params: {'learning_rate': 0.001, 'max_depth': 7, 'n_estimators': 10, 'subsample': 0.5}\n",
      "0.012015 (0.002300) with params: {'learning_rate': 0.001, 'max_depth': 7, 'n_estimators': 10, 'subsample': 0.7}\n",
      "0.011852 (0.002490) with params: {'learning_rate': 0.001, 'max_depth': 7, 'n_estimators': 10, 'subsample': 1.0}\n",
      "0.066524 (0.006660) with params: {'learning_rate': 0.001, 'max_depth': 7, 'n_estimators': 50, 'subsample': 0.5}\n",
      "0.066505 (0.006666) with params: {'learning_rate': 0.001, 'max_depth': 7, 'n_estimators': 50, 'subsample': 0.7}\n",
      "0.065045 (0.008343) with params: {'learning_rate': 0.001, 'max_depth': 7, 'n_estimators': 50, 'subsample': 1.0}\n",
      "0.128350 (0.013234) with params: {'learning_rate': 0.001, 'max_depth': 7, 'n_estimators': 100, 'subsample': 0.5}\n",
      "0.128225 (0.012635) with params: {'learning_rate': 0.001, 'max_depth': 7, 'n_estimators': 100, 'subsample': 0.7}\n",
      "0.125580 (0.015122) with params: {'learning_rate': 0.001, 'max_depth': 7, 'n_estimators': 100, 'subsample': 1.0}\n",
      "0.614938 (0.044691) with params: {'learning_rate': 0.001, 'max_depth': 7, 'n_estimators': 1000, 'subsample': 0.5}\n",
      "0.608640 (0.044646) with params: {'learning_rate': 0.001, 'max_depth': 7, 'n_estimators': 1000, 'subsample': 0.7}\n",
      "0.599022 (0.044957) with params: {'learning_rate': 0.001, 'max_depth': 7, 'n_estimators': 1000, 'subsample': 1.0}\n",
      "0.056693 (0.005154) with params: {'learning_rate': 0.005, 'max_depth': 3, 'n_estimators': 10, 'subsample': 0.5}\n",
      "0.056075 (0.004968) with params: {'learning_rate': 0.005, 'max_depth': 3, 'n_estimators': 10, 'subsample': 0.7}\n",
      "0.056011 (0.005612) with params: {'learning_rate': 0.005, 'max_depth': 3, 'n_estimators': 10, 'subsample': 1.0}\n",
      "0.242624 (0.020555) with params: {'learning_rate': 0.005, 'max_depth': 3, 'n_estimators': 50, 'subsample': 0.5}\n",
      "0.241879 (0.021209) with params: {'learning_rate': 0.005, 'max_depth': 3, 'n_estimators': 50, 'subsample': 0.7}\n",
      "0.239557 (0.021883) with params: {'learning_rate': 0.005, 'max_depth': 3, 'n_estimators': 50, 'subsample': 1.0}\n",
      "0.396542 (0.031181) with params: {'learning_rate': 0.005, 'max_depth': 3, 'n_estimators': 100, 'subsample': 0.5}\n",
      "0.394429 (0.030511) with params: {'learning_rate': 0.005, 'max_depth': 3, 'n_estimators': 100, 'subsample': 0.7}\n",
      "0.390404 (0.031244) with params: {'learning_rate': 0.005, 'max_depth': 3, 'n_estimators': 100, 'subsample': 1.0}\n",
      "0.692601 (0.044800) with params: {'learning_rate': 0.005, 'max_depth': 3, 'n_estimators': 1000, 'subsample': 0.5}\n",
      "0.688203 (0.046216) with params: {'learning_rate': 0.005, 'max_depth': 3, 'n_estimators': 1000, 'subsample': 0.7}\n",
      "0.683604 (0.042962) with params: {'learning_rate': 0.005, 'max_depth': 3, 'n_estimators': 1000, 'subsample': 1.0}\n",
      "0.063640 (0.005876) with params: {'learning_rate': 0.005, 'max_depth': 5, 'n_estimators': 10, 'subsample': 0.5}\n",
      "0.063488 (0.006283) with params: {'learning_rate': 0.005, 'max_depth': 5, 'n_estimators': 10, 'subsample': 0.7}\n",
      "0.063425 (0.007667) with params: {'learning_rate': 0.005, 'max_depth': 5, 'n_estimators': 10, 'subsample': 1.0}\n",
      "0.270036 (0.024854) with params: {'learning_rate': 0.005, 'max_depth': 5, 'n_estimators': 50, 'subsample': 0.5}\n",
      "0.269432 (0.024429) with params: {'learning_rate': 0.005, 'max_depth': 5, 'n_estimators': 50, 'subsample': 0.7}\n",
      "0.269227 (0.026730) with params: {'learning_rate': 0.005, 'max_depth': 5, 'n_estimators': 50, 'subsample': 1.0}\n",
      "0.434825 (0.036041) with params: {'learning_rate': 0.005, 'max_depth': 5, 'n_estimators': 100, 'subsample': 0.5}\n",
      "0.435584 (0.035041) with params: {'learning_rate': 0.005, 'max_depth': 5, 'n_estimators': 100, 'subsample': 0.7}\n",
      "0.432678 (0.035123) with params: {'learning_rate': 0.005, 'max_depth': 5, 'n_estimators': 100, 'subsample': 1.0}\n",
      "0.699134 (0.051280) with params: {'learning_rate': 0.005, 'max_depth': 5, 'n_estimators': 1000, 'subsample': 0.5}\n",
      "0.695738 (0.050784) with params: {'learning_rate': 0.005, 'max_depth': 5, 'n_estimators': 1000, 'subsample': 0.7}\n",
      "0.684358 (0.050441) with params: {'learning_rate': 0.005, 'max_depth': 5, 'n_estimators': 1000, 'subsample': 1.0}\n",
      "0.066419 (0.007121) with params: {'learning_rate': 0.005, 'max_depth': 7, 'n_estimators': 10, 'subsample': 0.5}\n",
      "0.066766 (0.007266) with params: {'learning_rate': 0.005, 'max_depth': 7, 'n_estimators': 10, 'subsample': 0.7}\n",
      "0.065154 (0.008426) with params: {'learning_rate': 0.005, 'max_depth': 7, 'n_estimators': 10, 'subsample': 1.0}\n",
      "0.281083 (0.025812) with params: {'learning_rate': 0.005, 'max_depth': 7, 'n_estimators': 50, 'subsample': 0.5}\n",
      "0.279621 (0.026913) with params: {'learning_rate': 0.005, 'max_depth': 7, 'n_estimators': 50, 'subsample': 0.7}\n",
      "0.273940 (0.028121) with params: {'learning_rate': 0.005, 'max_depth': 7, 'n_estimators': 50, 'subsample': 1.0}\n",
      "0.450485 (0.038746) with params: {'learning_rate': 0.005, 'max_depth': 7, 'n_estimators': 100, 'subsample': 0.5}\n",
      "0.448194 (0.036707) with params: {'learning_rate': 0.005, 'max_depth': 7, 'n_estimators': 100, 'subsample': 0.7}\n",
      "0.441761 (0.038083) with params: {'learning_rate': 0.005, 'max_depth': 7, 'n_estimators': 100, 'subsample': 1.0}\n",
      "0.693444 (0.055909) with params: {'learning_rate': 0.005, 'max_depth': 7, 'n_estimators': 1000, 'subsample': 0.5}\n",
      "0.683269 (0.059823) with params: {'learning_rate': 0.005, 'max_depth': 7, 'n_estimators': 1000, 'subsample': 0.7}\n",
      "0.667459 (0.068226) with params: {'learning_rate': 0.005, 'max_depth': 7, 'n_estimators': 1000, 'subsample': 1.0}\n",
      "0.109819 (0.010104) with params: {'learning_rate': 0.01, 'max_depth': 3, 'n_estimators': 10, 'subsample': 0.5}\n",
      "0.110017 (0.010350) with params: {'learning_rate': 0.01, 'max_depth': 3, 'n_estimators': 10, 'subsample': 0.7}\n",
      "0.108805 (0.010603) with params: {'learning_rate': 0.01, 'max_depth': 3, 'n_estimators': 10, 'subsample': 1.0}\n",
      "0.397379 (0.031101) with params: {'learning_rate': 0.01, 'max_depth': 3, 'n_estimators': 50, 'subsample': 0.5}\n",
      "0.394629 (0.030958) with params: {'learning_rate': 0.01, 'max_depth': 3, 'n_estimators': 50, 'subsample': 0.7}\n",
      "0.390929 (0.031331) with params: {'learning_rate': 0.01, 'max_depth': 3, 'n_estimators': 50, 'subsample': 1.0}\n",
      "0.556974 (0.036659) with params: {'learning_rate': 0.01, 'max_depth': 3, 'n_estimators': 100, 'subsample': 0.5}\n",
      "0.553607 (0.036498) with params: {'learning_rate': 0.01, 'max_depth': 3, 'n_estimators': 100, 'subsample': 0.7}\n",
      "0.550123 (0.037301) with params: {'learning_rate': 0.01, 'max_depth': 3, 'n_estimators': 100, 'subsample': 1.0}\n",
      "0.689515 (0.047963) with params: {'learning_rate': 0.01, 'max_depth': 3, 'n_estimators': 1000, 'subsample': 0.5}\n",
      "0.686294 (0.050076) with params: {'learning_rate': 0.01, 'max_depth': 3, 'n_estimators': 1000, 'subsample': 0.7}\n",
      "0.680789 (0.047160) with params: {'learning_rate': 0.01, 'max_depth': 3, 'n_estimators': 1000, 'subsample': 1.0}\n",
      "0.123147 (0.010908) with params: {'learning_rate': 0.01, 'max_depth': 5, 'n_estimators': 10, 'subsample': 0.5}\n",
      "0.122920 (0.011457) with params: {'learning_rate': 0.01, 'max_depth': 5, 'n_estimators': 10, 'subsample': 0.7}\n",
      "0.123007 (0.014101) with params: {'learning_rate': 0.01, 'max_depth': 5, 'n_estimators': 10, 'subsample': 1.0}\n",
      "0.435938 (0.035604) with params: {'learning_rate': 0.01, 'max_depth': 5, 'n_estimators': 50, 'subsample': 0.5}\n",
      "0.435226 (0.034532) with params: {'learning_rate': 0.01, 'max_depth': 5, 'n_estimators': 50, 'subsample': 0.7}\n",
      "0.433318 (0.035225) with params: {'learning_rate': 0.01, 'max_depth': 5, 'n_estimators': 50, 'subsample': 1.0}\n",
      "0.600459 (0.041418) with params: {'learning_rate': 0.01, 'max_depth': 5, 'n_estimators': 100, 'subsample': 0.5}\n",
      "0.597520 (0.040793) with params: {'learning_rate': 0.01, 'max_depth': 5, 'n_estimators': 100, 'subsample': 0.7}\n",
      "0.590370 (0.041634) with params: {'learning_rate': 0.01, 'max_depth': 5, 'n_estimators': 100, 'subsample': 1.0}\n",
      "0.688959 (0.057237) with params: {'learning_rate': 0.01, 'max_depth': 5, 'n_estimators': 1000, 'subsample': 0.5}\n",
      "0.684821 (0.059478) with params: {'learning_rate': 0.01, 'max_depth': 5, 'n_estimators': 1000, 'subsample': 0.7}\n",
      "0.676942 (0.049032) with params: {'learning_rate': 0.01, 'max_depth': 5, 'n_estimators': 1000, 'subsample': 1.0}\n",
      "0.129250 (0.013260) with params: {'learning_rate': 0.01, 'max_depth': 7, 'n_estimators': 10, 'subsample': 0.5}\n",
      "0.129431 (0.014254) with params: {'learning_rate': 0.01, 'max_depth': 7, 'n_estimators': 10, 'subsample': 0.7}\n",
      "0.126130 (0.015454) with params: {'learning_rate': 0.01, 'max_depth': 7, 'n_estimators': 10, 'subsample': 1.0}\n",
      "0.451617 (0.038229) with params: {'learning_rate': 0.01, 'max_depth': 7, 'n_estimators': 50, 'subsample': 0.5}\n",
      "0.449342 (0.038170) with params: {'learning_rate': 0.01, 'max_depth': 7, 'n_estimators': 50, 'subsample': 0.7}\n",
      "0.442705 (0.038112) with params: {'learning_rate': 0.01, 'max_depth': 7, 'n_estimators': 50, 'subsample': 1.0}\n",
      "0.615639 (0.045421) with params: {'learning_rate': 0.01, 'max_depth': 7, 'n_estimators': 100, 'subsample': 0.5}\n",
      "0.608913 (0.046361) with params: {'learning_rate': 0.01, 'max_depth': 7, 'n_estimators': 100, 'subsample': 0.7}\n",
      "0.599798 (0.045440) with params: {'learning_rate': 0.01, 'max_depth': 7, 'n_estimators': 100, 'subsample': 1.0}\n",
      "0.681338 (0.060728) with params: {'learning_rate': 0.01, 'max_depth': 7, 'n_estimators': 1000, 'subsample': 0.5}\n",
      "0.676955 (0.062642) with params: {'learning_rate': 0.01, 'max_depth': 7, 'n_estimators': 1000, 'subsample': 0.7}\n",
      "0.662872 (0.069652) with params: {'learning_rate': 0.01, 'max_depth': 7, 'n_estimators': 1000, 'subsample': 1.0}\n",
      "0.400266 (0.031833) with params: {'learning_rate': 0.05, 'max_depth': 3, 'n_estimators': 10, 'subsample': 0.5}\n",
      "0.397552 (0.031271) with params: {'learning_rate': 0.05, 'max_depth': 3, 'n_estimators': 10, 'subsample': 0.7}\n",
      "0.395525 (0.031216) with params: {'learning_rate': 0.05, 'max_depth': 3, 'n_estimators': 10, 'subsample': 1.0}\n",
      "0.673899 (0.038752) with params: {'learning_rate': 0.05, 'max_depth': 3, 'n_estimators': 50, 'subsample': 0.5}\n",
      "0.669875 (0.040523) with params: {'learning_rate': 0.05, 'max_depth': 3, 'n_estimators': 50, 'subsample': 0.7}\n",
      "0.664898 (0.040282) with params: {'learning_rate': 0.05, 'max_depth': 3, 'n_estimators': 50, 'subsample': 1.0}\n",
      "0.684736 (0.048819) with params: {'learning_rate': 0.05, 'max_depth': 3, 'n_estimators': 100, 'subsample': 0.5}\n",
      "0.686619 (0.050970) with params: {'learning_rate': 0.05, 'max_depth': 3, 'n_estimators': 100, 'subsample': 0.7}\n",
      "0.682198 (0.044425) with params: {'learning_rate': 0.05, 'max_depth': 3, 'n_estimators': 100, 'subsample': 1.0}\n",
      "0.660200 (0.061372) with params: {'learning_rate': 0.05, 'max_depth': 3, 'n_estimators': 1000, 'subsample': 0.5}\n",
      "0.656616 (0.064632) with params: {'learning_rate': 0.05, 'max_depth': 3, 'n_estimators': 1000, 'subsample': 0.7}\n",
      "0.647234 (0.060453) with params: {'learning_rate': 0.05, 'max_depth': 3, 'n_estimators': 1000, 'subsample': 1.0}\n",
      "0.441609 (0.033612) with params: {'learning_rate': 0.05, 'max_depth': 5, 'n_estimators': 10, 'subsample': 0.5}\n",
      "0.436837 (0.032361) with params: {'learning_rate': 0.05, 'max_depth': 5, 'n_estimators': 10, 'subsample': 0.7}\n",
      "0.438329 (0.034394) with params: {'learning_rate': 0.05, 'max_depth': 5, 'n_estimators': 10, 'subsample': 1.0}\n",
      "0.692545 (0.047647) with params: {'learning_rate': 0.05, 'max_depth': 5, 'n_estimators': 50, 'subsample': 0.5}\n",
      "0.692878 (0.045761) with params: {'learning_rate': 0.05, 'max_depth': 5, 'n_estimators': 50, 'subsample': 0.7}\n",
      "0.686105 (0.044472) with params: {'learning_rate': 0.05, 'max_depth': 5, 'n_estimators': 50, 'subsample': 1.0}\n",
      "0.694602 (0.052570) with params: {'learning_rate': 0.05, 'max_depth': 5, 'n_estimators': 100, 'subsample': 0.5}\n",
      "0.694326 (0.047273) with params: {'learning_rate': 0.05, 'max_depth': 5, 'n_estimators': 100, 'subsample': 0.7}\n",
      "0.684536 (0.050995) with params: {'learning_rate': 0.05, 'max_depth': 5, 'n_estimators': 100, 'subsample': 1.0}\n",
      "0.652218 (0.058498) with params: {'learning_rate': 0.05, 'max_depth': 5, 'n_estimators': 1000, 'subsample': 0.5}\n",
      "0.659645 (0.061863) with params: {'learning_rate': 0.05, 'max_depth': 5, 'n_estimators': 1000, 'subsample': 0.7}\n",
      "0.656822 (0.053827) with params: {'learning_rate': 0.05, 'max_depth': 5, 'n_estimators': 1000, 'subsample': 1.0}\n",
      "0.455911 (0.044466) with params: {'learning_rate': 0.05, 'max_depth': 7, 'n_estimators': 10, 'subsample': 0.5}\n",
      "0.452367 (0.039464) with params: {'learning_rate': 0.05, 'max_depth': 7, 'n_estimators': 10, 'subsample': 0.7}\n",
      "0.446768 (0.038808) with params: {'learning_rate': 0.05, 'max_depth': 7, 'n_estimators': 10, 'subsample': 1.0}\n",
      "0.693686 (0.045287) with params: {'learning_rate': 0.05, 'max_depth': 7, 'n_estimators': 50, 'subsample': 0.5}\n",
      "0.684762 (0.055204) with params: {'learning_rate': 0.05, 'max_depth': 7, 'n_estimators': 50, 'subsample': 0.7}\n",
      "0.672634 (0.061502) with params: {'learning_rate': 0.05, 'max_depth': 7, 'n_estimators': 50, 'subsample': 1.0}\n",
      "0.681083 (0.061006) with params: {'learning_rate': 0.05, 'max_depth': 7, 'n_estimators': 100, 'subsample': 0.5}\n",
      "0.674595 (0.058604) with params: {'learning_rate': 0.05, 'max_depth': 7, 'n_estimators': 100, 'subsample': 0.7}\n",
      "0.665786 (0.065241) with params: {'learning_rate': 0.05, 'max_depth': 7, 'n_estimators': 100, 'subsample': 1.0}\n",
      "0.661723 (0.069471) with params: {'learning_rate': 0.05, 'max_depth': 7, 'n_estimators': 1000, 'subsample': 0.5}\n",
      "0.656846 (0.073725) with params: {'learning_rate': 0.05, 'max_depth': 7, 'n_estimators': 1000, 'subsample': 0.7}\n",
      "0.646109 (0.073652) with params: {'learning_rate': 0.05, 'max_depth': 7, 'n_estimators': 1000, 'subsample': 1.0}\n",
      "0.561544 (0.035569) with params: {'learning_rate': 0.1, 'max_depth': 3, 'n_estimators': 10, 'subsample': 0.5}\n",
      "0.560166 (0.035576) with params: {'learning_rate': 0.1, 'max_depth': 3, 'n_estimators': 10, 'subsample': 0.7}\n",
      "0.558370 (0.037996) with params: {'learning_rate': 0.1, 'max_depth': 3, 'n_estimators': 10, 'subsample': 1.0}\n",
      "0.678241 (0.047916) with params: {'learning_rate': 0.1, 'max_depth': 3, 'n_estimators': 50, 'subsample': 0.5}\n",
      "0.682669 (0.048711) with params: {'learning_rate': 0.1, 'max_depth': 3, 'n_estimators': 50, 'subsample': 0.7}\n",
      "0.680721 (0.041941) with params: {'learning_rate': 0.1, 'max_depth': 3, 'n_estimators': 50, 'subsample': 1.0}\n",
      "0.685878 (0.051230) with params: {'learning_rate': 0.1, 'max_depth': 3, 'n_estimators': 100, 'subsample': 0.5}\n",
      "0.681076 (0.049328) with params: {'learning_rate': 0.1, 'max_depth': 3, 'n_estimators': 100, 'subsample': 0.7}\n",
      "0.677202 (0.046869) with params: {'learning_rate': 0.1, 'max_depth': 3, 'n_estimators': 100, 'subsample': 1.0}\n",
      "0.636782 (0.067135) with params: {'learning_rate': 0.1, 'max_depth': 3, 'n_estimators': 1000, 'subsample': 0.5}\n",
      "0.631242 (0.072190) with params: {'learning_rate': 0.1, 'max_depth': 3, 'n_estimators': 1000, 'subsample': 0.7}\n",
      "0.623665 (0.062525) with params: {'learning_rate': 0.1, 'max_depth': 3, 'n_estimators': 1000, 'subsample': 1.0}\n",
      "0.600308 (0.042110) with params: {'learning_rate': 0.1, 'max_depth': 5, 'n_estimators': 10, 'subsample': 0.5}\n",
      "0.602418 (0.043878) with params: {'learning_rate': 0.1, 'max_depth': 5, 'n_estimators': 10, 'subsample': 0.7}\n",
      "0.596585 (0.040920) with params: {'learning_rate': 0.1, 'max_depth': 5, 'n_estimators': 10, 'subsample': 1.0}\n",
      "0.687525 (0.051573) with params: {'learning_rate': 0.1, 'max_depth': 5, 'n_estimators': 50, 'subsample': 0.5}\n",
      "0.681695 (0.063702) with params: {'learning_rate': 0.1, 'max_depth': 5, 'n_estimators': 50, 'subsample': 0.7}\n",
      "0.684721 (0.049490) with params: {'learning_rate': 0.1, 'max_depth': 5, 'n_estimators': 50, 'subsample': 1.0}\n",
      "0.681129 (0.049512) with params: {'learning_rate': 0.1, 'max_depth': 5, 'n_estimators': 100, 'subsample': 0.5}\n",
      "0.673757 (0.055371) with params: {'learning_rate': 0.1, 'max_depth': 5, 'n_estimators': 100, 'subsample': 0.7}\n",
      "0.682607 (0.048873) with params: {'learning_rate': 0.1, 'max_depth': 5, 'n_estimators': 100, 'subsample': 1.0}\n",
      "0.641035 (0.070653) with params: {'learning_rate': 0.1, 'max_depth': 5, 'n_estimators': 1000, 'subsample': 0.5}\n",
      "0.645096 (0.067929) with params: {'learning_rate': 0.1, 'max_depth': 5, 'n_estimators': 1000, 'subsample': 0.7}\n",
      "0.648604 (0.054608) with params: {'learning_rate': 0.1, 'max_depth': 5, 'n_estimators': 1000, 'subsample': 1.0}\n",
      "0.614010 (0.042605) with params: {'learning_rate': 0.1, 'max_depth': 7, 'n_estimators': 10, 'subsample': 0.5}\n",
      "0.611272 (0.046311) with params: {'learning_rate': 0.1, 'max_depth': 7, 'n_estimators': 10, 'subsample': 0.7}\n",
      "0.605897 (0.043397) with params: {'learning_rate': 0.1, 'max_depth': 7, 'n_estimators': 10, 'subsample': 1.0}\n",
      "0.679531 (0.062600) with params: {'learning_rate': 0.1, 'max_depth': 7, 'n_estimators': 50, 'subsample': 0.5}\n",
      "0.666334 (0.061874) with params: {'learning_rate': 0.1, 'max_depth': 7, 'n_estimators': 50, 'subsample': 0.7}\n",
      "0.667800 (0.065508) with params: {'learning_rate': 0.1, 'max_depth': 7, 'n_estimators': 50, 'subsample': 1.0}\n",
      "0.669913 (0.058629) with params: {'learning_rate': 0.1, 'max_depth': 7, 'n_estimators': 100, 'subsample': 0.5}\n",
      "0.664065 (0.068719) with params: {'learning_rate': 0.1, 'max_depth': 7, 'n_estimators': 100, 'subsample': 0.7}\n",
      "0.658461 (0.071576) with params: {'learning_rate': 0.1, 'max_depth': 7, 'n_estimators': 100, 'subsample': 1.0}\n",
      "0.645466 (0.064357) with params: {'learning_rate': 0.1, 'max_depth': 7, 'n_estimators': 1000, 'subsample': 0.5}\n",
      "0.651125 (0.063718) with params: {'learning_rate': 0.1, 'max_depth': 7, 'n_estimators': 1000, 'subsample': 0.7}\n",
      "0.645831 (0.072910) with params: {'learning_rate': 0.1, 'max_depth': 7, 'n_estimators': 1000, 'subsample': 1.0}\n"
     ]
    }
   ],
   "source": [
    "print('OPTIMAL: %f with params: %s' % (grid_result.best_score_, grid_result.best_params_))\n",
    "\n",
    "test_means = grid_result.cv_results_['mean_test_score']\n",
    "test_stds = grid_result.cv_results_['std_test_score']\n",
    "params = grid_result.cv_results_['params']\n",
    "for test_mean, test_std, param in zip(test_means, test_stds, params):\n",
    "    print(\"%f (%f) with params: %r\" % (test_mean, test_std, param))"
   ]
  },
  {
   "cell_type": "code",
   "execution_count": null,
   "id": "7a5b467d",
   "metadata": {},
   "outputs": [],
   "source": []
  }
 ],
 "metadata": {
  "kernelspec": {
   "display_name": "Python 3 (ipykernel)",
   "language": "python",
   "name": "python3"
  },
  "language_info": {
   "codemirror_mode": {
    "name": "ipython",
    "version": 3
   },
   "file_extension": ".py",
   "mimetype": "text/x-python",
   "name": "python",
   "nbconvert_exporter": "python",
   "pygments_lexer": "ipython3",
   "version": "3.9.4"
  }
 },
 "nbformat": 4,
 "nbformat_minor": 5
}
